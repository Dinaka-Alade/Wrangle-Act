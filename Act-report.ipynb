{
 "cells": [
  {
   "cell_type": "markdown",
   "id": "15d60336",
   "metadata": {},
   "source": [
    "# Act Report\n",
    "\n",
    "\n",
    "## Data Visualization\n",
    "\n",
    "### Introduction\n",
    " WeRateDogs is a Twitter account that rates people's dogs with a humorous comment about the dog. These ratings almost always have a denominator of 10. The numerators, though? Almost always greater than 10. 11/10, 12/10, 13/10, etc.\n",
    "\n",
    "Below are some analysis on the cleaned data gathered and assessed\n",
    "\n",
    "\n",
    "1. Identifying the most common dog breed, the distribution of dogs is in stages, plot below\n",
    "\n",
    "\n",
    "![title](./output.png)\n",
    "\n",
    "\n",
    "Golden Retriever is seen as the most common dog breed with a count of 158\n",
    "\n",
    "2. Distribution of Dog stages\n",
    "\n",
    "![title](./output2.png)\n",
    "\n",
    "\n",
    "pupper has the highest distribution\n",
    "\n",
    "\n",
    "\n",
    "3. Correlation between Favorite count and Retweet count\n",
    "\n",
    "A scatter plot was used to visualize correlation and .corr() was used to determine the exact correlation of 0.91 which turns out to be a positive correlation between them.\n",
    "\n",
    "As favorite count increases, retweet count increases\n",
    "\n",
    "![title](./output3.png)"
   ]
  },
  {
   "cell_type": "markdown",
   "id": "51450bc7",
   "metadata": {},
   "source": [
    "# "
   ]
  }
 ],
 "metadata": {
  "kernelspec": {
   "display_name": "Python 3 (ipykernel)",
   "language": "python",
   "name": "python3"
  },
  "language_info": {
   "codemirror_mode": {
    "name": "ipython",
    "version": 3
   },
   "file_extension": ".py",
   "mimetype": "text/x-python",
   "name": "python",
   "nbconvert_exporter": "python",
   "pygments_lexer": "ipython3",
   "version": "3.9.12"
  }
 },
 "nbformat": 4,
 "nbformat_minor": 5
}
